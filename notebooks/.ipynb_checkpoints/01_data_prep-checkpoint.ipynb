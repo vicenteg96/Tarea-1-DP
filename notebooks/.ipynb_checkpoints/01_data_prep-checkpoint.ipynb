{
 "cells": [
  {
   "cell_type": "code",
   "execution_count": 1,
   "id": "cc89fa5b-3541-48d7-a5aa-fa615322ea86",
   "metadata": {},
   "outputs": [],
   "source": [
    "#Se configura el path para importar los modulos\n",
    "import sys\n",
    "import os\n",
    "sys.path.append(os.path.abspath(os.path.join('..')))"
   ]
  },
  {
   "cell_type": "code",
   "execution_count": 2,
   "id": "5449e275-18fe-426a-91d4-c0f8c69dff99",
   "metadata": {},
   "outputs": [],
   "source": [
    "#librerias necesarias\n",
    "import pandas as pd\n",
    "from src.data.dataset import load_data\n",
    "from src.features.build_features import preprocess"
   ]
  },
  {
   "cell_type": "code",
   "execution_count": 3,
   "id": "3f703275-5b15-4033-af7d-0339d8e36be6",
   "metadata": {},
   "outputs": [],
   "source": [
    "#Variable objetivo\n",
    "target_col = \"high_tip\" "
   ]
  },
  {
   "cell_type": "code",
   "execution_count": 4,
   "id": "3a85d5c5-d459-4402-8231-c5824398bca5",
   "metadata": {},
   "outputs": [],
   "source": [
    "#se cargan datos desde la url\n",
    "train_url = 'https://d37ci6vzurychx.cloudfront.net/trip-data/yellow_tripdata_2020-01.parquet'\n",
    "taxi = load_data(train_url)"
   ]
  },
  {
   "cell_type": "code",
   "execution_count": 5,
   "id": "e6bf9534-96a6-4594-8245-ed3a232d34c1",
   "metadata": {},
   "outputs": [],
   "source": [
    "#Se preprocesan los datos\n",
    "taxi_train = preprocess(df=taxi, target_col=target_col)"
   ]
  },
  {
   "cell_type": "code",
   "execution_count": 6,
   "id": "3505962c-469a-4af3-b600-03cc26bbd487",
   "metadata": {},
   "outputs": [],
   "source": [
    "#Se utilizan solamente las 100.000 primeras filas para reducir el tiempo de ejecucion.\n",
    "taxi_train = taxi_train.head(100000).reset_index(drop=True)"
   ]
  },
  {
   "cell_type": "code",
   "execution_count": 7,
   "id": "ba36b474-332c-4400-9a00-50eecd9c3d32",
   "metadata": {},
   "outputs": [
    {
     "name": "stdout",
     "output_type": "stream",
     "text": [
      "Num rows: 100000, Size: 0.01 GB\n"
     ]
    }
   ],
   "source": [
    "print(f\"Num rows: {len(taxi_train)}, Size: {taxi_train.memory_usage(deep=True).sum() / 1e9:.2f} GB\")"
   ]
  },
  {
   "cell_type": "code",
   "execution_count": 8,
   "id": "75774f19-0b56-4540-a488-a6a57f62bbd2",
   "metadata": {},
   "outputs": [
    {
     "name": "stdout",
     "output_type": "stream",
     "text": [
      "  tpep_dropoff_datetime  pickup_weekday  pickup_hour  work_hours  \\\n",
      "0   2020-01-01 00:33:03             2.0          0.0         0.0   \n",
      "1   2020-01-01 00:43:04             2.0          0.0         0.0   \n",
      "2   2020-01-01 00:53:52             2.0          0.0         0.0   \n",
      "3   2020-01-01 01:00:14             2.0          0.0         0.0   \n",
      "4   2020-01-01 00:04:16             2.0          0.0         0.0   \n",
      "\n",
      "   pickup_minute  passenger_count  trip_distance  trip_time  trip_speed  \\\n",
      "0           28.0              1.0            1.2      288.0    0.004167   \n",
      "1           35.0              1.0            1.2      445.0    0.002697   \n",
      "2           47.0              1.0            0.6      371.0    0.001617   \n",
      "3           55.0              1.0            0.8      291.0    0.002749   \n",
      "4            1.0              1.0            0.0      138.0    0.000000   \n",
      "\n",
      "   PULocationID  DOLocationID  RatecodeID  high_tip  \n",
      "0         238.0         239.0         1.0         1  \n",
      "1         239.0         238.0         1.0         1  \n",
      "2         238.0         238.0         1.0         0  \n",
      "3         238.0         151.0         1.0         1  \n",
      "4         193.0         193.0         1.0         0  \n"
     ]
    }
   ],
   "source": [
    "print(taxi_train.head())"
   ]
  },
  {
   "cell_type": "code",
   "execution_count": 9,
   "id": "339f2cc0-398e-4ce1-a37d-a3309cda9a7f",
   "metadata": {},
   "outputs": [],
   "source": [
    "#Se guarda el dataset precesado en formato 'Parquet'\n",
    "taxi_train.to_parquet(\"../data/processed/taxi_train.parquet\", index=False)"
   ]
  }
 ],
 "metadata": {
  "kernelspec": {
   "display_name": "Python 3 (ipykernel)",
   "language": "python",
   "name": "python3"
  },
  "language_info": {
   "codemirror_mode": {
    "name": "ipython",
    "version": 3
   },
   "file_extension": ".py",
   "mimetype": "text/x-python",
   "name": "python",
   "nbconvert_exporter": "python",
   "pygments_lexer": "ipython3",
   "version": "3.11.7"
  }
 },
 "nbformat": 4,
 "nbformat_minor": 5
}
