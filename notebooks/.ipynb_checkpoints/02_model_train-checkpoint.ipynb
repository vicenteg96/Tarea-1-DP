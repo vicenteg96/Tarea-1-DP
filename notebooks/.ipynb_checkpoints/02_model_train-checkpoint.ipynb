{
 "cells": [
  {
   "cell_type": "code",
   "execution_count": 1,
   "id": "3175f892-2387-4bba-a8b6-f8b010546e71",
   "metadata": {},
   "outputs": [],
   "source": [
    "#Se configura el path para importar los modulos\n",
    "import sys\n",
    "import os\n",
    "sys.path.append(os.path.abspath(os.path.join('..')))"
   ]
  },
  {
   "cell_type": "code",
   "execution_count": 2,
   "id": "32ba6980-0480-4472-9de2-08539aa9d90b",
   "metadata": {},
   "outputs": [],
   "source": [
    "#librerias necesarias\n",
    "import pandas as pd\n",
    "import joblib\n",
    "from src.modeling.train import train_model\n",
    "from src.features.build_features import features\n",
    "from sklearn.metrics import f1_score"
   ]
  },
  {
   "cell_type": "code",
   "execution_count": 3,
   "id": "034bfb46-cdff-4865-8f46-9db0729a6f3c",
   "metadata": {},
   "outputs": [],
   "source": [
    "#Variable objetivo\n",
    "target_col = \"high_tip\"\n",
    "#Se carga el dataset preprocesado\n",
    "taxi_train = pd.read_parquet(\"../data/processed/taxi_train.parquet\")"
   ]
  },
  {
   "cell_type": "code",
   "execution_count": 4,
   "id": "3d2a14a5-8298-4c4b-9c51-4b264629896e",
   "metadata": {},
   "outputs": [],
   "source": [
    "#Se entrena el modelo Randomforest\n",
    "model = train_model(taxi_train, features, target_col, output_path=\"../models/random_forest.joblib\")"
   ]
  },
  {
   "cell_type": "code",
   "execution_count": 5,
   "id": "be990c38-2175-44c9-a0db-313e5c28607b",
   "metadata": {},
   "outputs": [],
   "source": [
    "#Se realizan predicciones y se evalia en los datos de entrenamiento\n",
    "preds = model.predict_proba(taxi_train[features])\n",
    "preds_labels = [p[1] for p in preds.round()]"
   ]
  },
  {
   "cell_type": "code",
   "execution_count": 6,
   "id": "a59b1f57-1402-4a67-a327-4923dd20b90f",
   "metadata": {},
   "outputs": [
    {
     "data": {
      "text/plain": [
       "array([[0.39739506, 0.60260494],\n",
       "       [0.40831943, 0.59168057],\n",
       "       [0.47867818, 0.52132182],\n",
       "       ...,\n",
       "       [0.44472852, 0.55527148],\n",
       "       [0.38782981, 0.61217019],\n",
       "       [0.44541241, 0.55458759]])"
      ]
     },
     "execution_count": 6,
     "metadata": {},
     "output_type": "execute_result"
    }
   ],
   "source": [
    "preds"
   ]
  },
  {
   "cell_type": "code",
   "execution_count": 7,
   "id": "5956c456-371d-4af7-90b1-4542cc783c58",
   "metadata": {},
   "outputs": [
    {
     "data": {
      "text/plain": [
       "[1.0, 1.0, 1.0, 1.0, 0.0, 0.0, 0.0, 0.0, 0.0, 0.0]"
      ]
     },
     "execution_count": 7,
     "metadata": {},
     "output_type": "execute_result"
    }
   ],
   "source": [
    "preds_labels[0:10]"
   ]
  },
  {
   "cell_type": "code",
   "execution_count": 8,
   "id": "6877e6eb-4e1a-40e3-a8da-73f7d077a13f",
   "metadata": {},
   "outputs": [
    {
     "name": "stdout",
     "output_type": "stream",
     "text": [
      "F1-score (entrenamiento): 0.6594\n"
     ]
    }
   ],
   "source": [
    "#Se calcula el F1 score\n",
    "f1 = f1_score(taxi_train[target_col], preds_labels)\n",
    "print(f\"F1-score (entrenamiento): {f1:.4f}\")"
   ]
  }
 ],
 "metadata": {
  "kernelspec": {
   "display_name": "Python 3 (ipykernel)",
   "language": "python",
   "name": "python3"
  },
  "language_info": {
   "codemirror_mode": {
    "name": "ipython",
    "version": 3
   },
   "file_extension": ".py",
   "mimetype": "text/x-python",
   "name": "python",
   "nbconvert_exporter": "python",
   "pygments_lexer": "ipython3",
   "version": "3.11.7"
  }
 },
 "nbformat": 4,
 "nbformat_minor": 5
}
